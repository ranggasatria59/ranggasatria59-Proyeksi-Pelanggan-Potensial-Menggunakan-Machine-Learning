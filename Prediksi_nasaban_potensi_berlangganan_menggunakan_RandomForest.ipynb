{
  "nbformat": 4,
  "nbformat_minor": 0,
  "metadata": {
    "colab": {
      "provenance": [],
      "toc_visible": true,
      "authorship_tag": "ABX9TyNdtchjRk9hDcgBjc006hWI",
      "include_colab_link": true
    },
    "kernelspec": {
      "name": "python3",
      "display_name": "Python 3"
    },
    "language_info": {
      "name": "python"
    }
  },
  "cells": [
    {
      "cell_type": "markdown",
      "metadata": {
        "id": "view-in-github",
        "colab_type": "text"
      },
      "source": [
        "<a href=\"https://colab.research.google.com/github/ranggasatria59/ranggasatria59-Proyeksi-Pelanggan-Potensial-Menggunakan-Machine-Learning/blob/main/Prediksi_nasaban_potensi_berlangganan_menggunakan_RandomForest.ipynb\" target=\"_parent\"><img src=\"https://colab.research.google.com/assets/colab-badge.svg\" alt=\"Open In Colab\"/></a>"
      ]
    },
    {
      "cell_type": "code",
      "source": [
        "import pandas as pd\n",
        "import numpy as np\n",
        "from sklearn.model_selection import train_test_split\n",
        "from sklearn.ensemble import RandomForestClassifier\n",
        "from sklearn.metrics import accuracy_score\n",
        "\n",
        "# Membuat dataset untuk 1000 nasabah\n",
        "jumlah_nasabah = 1000\n",
        "\n",
        "# Membuat data nasabah\n",
        "np.random.seed(42)\n",
        "nasabah_id = np.arange(1, jumlah_nasabah + 1)\n",
        "nasabah_data = {\n",
        "    'nasabah_id': nasabah_id,\n",
        "    'gaji': np.random.randint(3000000, 20000000, jumlah_nasabah),\n",
        "    'kredit_kpr': np.random.choice(['lunas', 'belum lunas'], jumlah_nasabah),\n",
        "    'jumlah_cicilan': np.random.randint(1000000, 10000000, jumlah_nasabah),\n",
        "    'tunggakan': np.random.randint(0, 5000000, jumlah_nasabah),\n",
        "    'bunga': np.random.uniform(0, 15, jumlah_nasabah),\n",
        "    'berlangganan': np.random.choice([0, 1], jumlah_nasabah)\n",
        "}\n",
        "\n",
        "nasabah_df = pd.DataFrame(nasabah_data)\n",
        "\n",
        "# Membuat data transaksi untuk setiap nasabah\n",
        "transaksi_per_tahun = 10\n",
        "total_transaksi = jumlah_nasabah * transaksi_per_tahun\n",
        "\n",
        "transaksi_data = {\n",
        "    'nasabah_id': np.repeat(nasabah_id, transaksi_per_tahun),\n",
        "    'tahun': np.tile(np.arange(2010, 2020), jumlah_nasabah),\n",
        "    'bulan': np.random.randint(1, 13, total_transaksi),\n",
        "    'jumlah_transaksi': np.random.randint(1, 100, total_transaksi),\n",
        "    'total_transaksi': np.random.randint(10000, 1000000, total_transaksi),\n",
        "    'jenis_transaksi': np.random.choice(['debit', 'kredit'], total_transaksi)\n",
        "}\n",
        "\n",
        "transaksi_df = pd.DataFrame(transaksi_data)\n",
        "\n",
        "# Menyimpan dataset\n",
        "nasabah_df.to_csv('nasabah_data.csv', index=False)\n",
        "transaksi_df.to_csv('transaksi_data.csv', index=False)\n",
        "\n",
        "# Menggabungkan data nasabah dengan data transaksi berdasarkan 'nasabah_id'\n",
        "data_df = pd.merge(transaksi_df, nasabah_df, on='nasabah_id')\n",
        "\n",
        "# Memproses kolom 'kredit_kpr' menjadi numerik\n",
        "data_df['kredit_kpr'] = data_df['kredit_kpr'].map({'lunas': 1, 'belum lunas': 0})\n",
        "\n",
        "# Memproses kolom 'jenis_transaksi' menjadi numerik\n",
        "data_df['jenis_transaksi'] = data_df['jenis_transaksi'].map({'debit': 0, 'kredit': 1})\n",
        "\n",
        "# Menyiapkan fitur dan label untuk model\n",
        "X = data_df.drop(columns=['berlangganan', 'nasabah_id'])\n",
        "y = data_df['berlangganan']\n",
        "\n",
        "# Membagi dataset menjadi training dan testing set\n",
        "X_train, X_test, y_train, y_test = train_test_split(X, y, test_size=0.3, random_state=42)\n",
        "\n",
        "# Melatih model RandomForestClassifier\n",
        "model = RandomForestClassifier(n_estimators=100, random_state=42)\n",
        "model.fit(X_train, y_train)\n",
        "\n",
        "# Melakukan prediksi pada data testing\n",
        "y_pred = model.predict(X_test)\n",
        "\n",
        "# Evaluasi model\n",
        "print(\"Accuracy:\", accuracy_score(y_test, y_pred))\n"
      ],
      "metadata": {
        "colab": {
          "base_uri": "https://localhost:8080/"
        },
        "id": "4zvtRHZ5DZpV",
        "outputId": "98b0a16b-1574-46aa-b063-46c60f39d527"
      },
      "execution_count": 1,
      "outputs": [
        {
          "output_type": "stream",
          "name": "stdout",
          "text": [
            "Accuracy: 0.9923333333333333\n"
          ]
        }
      ]
    },
    {
      "cell_type": "code",
      "source": [],
      "metadata": {
        "id": "1z6gEU4L_BaR"
      },
      "execution_count": null,
      "outputs": []
    },
    {
      "cell_type": "code",
      "source": [
        "# Pilih beberapa nasabah dari data asli untuk prediksi\n",
        "sample_nasabah_ids = [1, 2, 3]  # ID Nasabah yang ada dalam dataset asli\n",
        "\n",
        "# Filter data asli untuk nasabah yang dipilih\n",
        "df_baru = data_df[data_df['nasabah_id'].isin(sample_nasabah_ids)].copy()\n",
        "\n",
        "# Menghapus kolom 'berlangganan' untuk prediksi\n",
        "X_baru = df_baru.drop(columns=['berlangganan', 'nasabah_id'])\n",
        "\n",
        "# Prediksi pada data baru\n",
        "prediksi_baru = model.predict(X_baru)\n",
        "\n",
        "# Menambahkan hasil prediksi ke dalam DataFrame\n",
        "df_baru.loc[:, 'berlangganan_prediksi'] = prediksi_baru\n",
        "\n",
        "# Menyimpan hasil prediksi ke dalam file CSV\n",
        "df_baru.to_csv('hasil_prediksi_nasabah.csv', index=False)\n",
        "\n",
        "print(df_baru[['nasabah_id', 'berlangganan_prediksi']])\n"
      ],
      "metadata": {
        "colab": {
          "base_uri": "https://localhost:8080/"
        },
        "id": "8dshK53-F--G",
        "outputId": "39b5444a-8cf3-4cba-92fa-81a0a47ee63b"
      },
      "execution_count": 2,
      "outputs": [
        {
          "output_type": "stream",
          "name": "stdout",
          "text": [
            "    nasabah_id  berlangganan_prediksi\n",
            "0            1                      0\n",
            "1            1                      0\n",
            "2            1                      0\n",
            "3            1                      0\n",
            "4            1                      0\n",
            "5            1                      0\n",
            "6            1                      0\n",
            "7            1                      0\n",
            "8            1                      0\n",
            "9            1                      0\n",
            "10           2                      0\n",
            "11           2                      0\n",
            "12           2                      0\n",
            "13           2                      0\n",
            "14           2                      0\n",
            "15           2                      0\n",
            "16           2                      0\n",
            "17           2                      0\n",
            "18           2                      0\n",
            "19           2                      0\n",
            "20           3                      1\n",
            "21           3                      1\n",
            "22           3                      1\n",
            "23           3                      1\n",
            "24           3                      1\n",
            "25           3                      1\n",
            "26           3                      1\n",
            "27           3                      1\n",
            "28           3                      1\n",
            "29           3                      1\n"
          ]
        }
      ]
    }
  ]
}